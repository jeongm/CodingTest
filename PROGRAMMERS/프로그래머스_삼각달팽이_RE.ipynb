{
 "cells": [
  {
   "cell_type": "markdown",
   "metadata": {},
   "source": [
    "# 0903"
   ]
  },
  {
   "cell_type": "markdown",
   "metadata": {},
   "source": [
    "## 프로그래머스 _월간 코드 챌린지 시즌1 _삼각달팽이"
   ]
  },
  {
   "cell_type": "markdown",
   "metadata": {},
   "source": [
    "정수 n이 매개변수로 주어집니다. 다음 그림과 같이 밑변의 길이와 높이가 n인 삼각형에서 맨 위 꼭짓점부터 반시계 방향으로 달팽이 채우기를 진행한 후, 첫 행부터 마지막 행까지 모두 순서대로 합친 새로운 배열을 return 하도록 solution 함수를 완성해주세"
   ]
  },
  {
   "cell_type": "code",
   "execution_count": 38,
   "metadata": {},
   "outputs": [],
   "source": [
    "def solution(n):\n",
    "    answer = []\n",
    "    \n",
    "    return answer"
   ]
  },
  {
   "cell_type": "code",
   "execution_count": 20,
   "metadata": {},
   "outputs": [
    {
     "name": "stdout",
     "output_type": "stream",
     "text": [
      "5\n"
     ]
    }
   ],
   "source": [
    "n = int(input())"
   ]
  },
  {
   "cell_type": "code",
   "execution_count": 37,
   "metadata": {},
   "outputs": [
    {
     "name": "stdout",
     "output_type": "stream",
     "text": [
      "[[1], [2, 12], [3, 13, 11], [4, 14, 15, 10], [5, 6, 7, 8, 9]]\n",
      "[1, 2, 12, 3, 13, 11, 4, 14, 15, 10, 5, 6, 7, 8, 9]\n"
     ]
    }
   ],
   "source": [
    "dal = [[0 for j in range(i+1)] for i in range(n)]\n",
    "\n",
    "num = 0\n",
    "cal,row=0,-1\n",
    "for i in range(n):\n",
    "    for j in range(n-i):#방향3개, 아래, 옆, 위\n",
    "        num+=1\n",
    "        if  i % 3 == 0 :\n",
    "            row+=1\n",
    "        elif i % 3 == 1:\n",
    "            cal+=1\n",
    "        else :\n",
    "            cal-=1\n",
    "            row-=1\n",
    "        dal[row][cal] = num\n",
    "print(dal)\n",
    "\n",
    "answer = []\n",
    "for i in range(n):\n",
    "    answer += dal[i]\n",
    "print(answer)\n",
    "        \n",
    "        \n"
   ]
  },
  {
   "cell_type": "code",
   "execution_count": 36,
   "metadata": {},
   "outputs": [],
   "source": [
    "def solution(n):\n",
    "    answer = []\n",
    "    \n",
    "    dal = [[0 for j in range(i+1)] for i in range(n)] # 직각이등변삼격형민들기\n",
    "    num = 0\n",
    "    cal,row=0,-1    #행 0,0부터 들어가야 하니까\n",
    "    for i in range(n):\n",
    "        for j in range(n-i):#방향3개, 아래, 옆, 위\n",
    "            num+=1\n",
    "            if  i % 3 == 0 :\n",
    "                row+=1\n",
    "            elif i % 3 == 1:\n",
    "                cal+=1\n",
    "            else :\n",
    "                cal-=1\n",
    "                row-=1\n",
    "            dal[row][cal] = num\n",
    "\n",
    "    for i in range(n):\n",
    "        answer += dal[i]\n",
    "        \n",
    "    return answer"
   ]
  },
  {
   "cell_type": "code",
   "execution_count": null,
   "metadata": {},
   "outputs": [],
   "source": []
  }
 ],
 "metadata": {
  "kernelspec": {
   "display_name": "Python 3 (ipykernel)",
   "language": "python",
   "name": "python3"
  },
  "language_info": {
   "codemirror_mode": {
    "name": "ipython",
    "version": 3
   },
   "file_extension": ".py",
   "mimetype": "text/x-python",
   "name": "python",
   "nbconvert_exporter": "python",
   "pygments_lexer": "ipython3",
   "version": "3.9.6"
  }
 },
 "nbformat": 4,
 "nbformat_minor": 4
}
