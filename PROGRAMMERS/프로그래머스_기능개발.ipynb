{
 "cells": [
  {
   "cell_type": "markdown",
   "id": "29207109",
   "metadata": {},
   "source": [
    "## 0913"
   ]
  },
  {
   "cell_type": "markdown",
   "id": "e1ed875f",
   "metadata": {},
   "source": [
    "프로그래머스 팀에서는 기능 개선 작업을 수행 중입니다. 각 기능은 진도가 100%일 때 서비스에 반영할 수 있습니다.\n",
    "\n",
    "또, 각 기능의 개발속도는 모두 다르기 때문에 뒤에 있는 기능이 앞에 있는 기능보다 먼저 개발될 수 있고, 이때 뒤에 있는 기능은 앞에 있는 기능이 배포될 때 함께 배포됩니다.\n",
    "\n",
    "먼저 배포되어야 하는 순서대로 작업의 진도가 적힌 정수 배열 progresses와 각 작업의 개발 속도가 적힌 정수 배열 speeds가 주어질 때 각 배포마다 몇 개의 기능이 배포되는지를 return 하도록 solution 함수를 완성하세요.\n",
    "\n",
    "- 작업의 개수(progresses, speeds배열의 길이)는 100개 이하입니다.  \n",
    "- 작업 진도는 100 미만의 자연수입니다.  \n",
    "- 작업 속도는 100 이하의 자연수입니다.  \n",
    "- 배포는 하루에 한 번만 할 수 있으며, 하루의 끝에 이루어진다고 가정합니다. 예를 들어 진도율이 95%인 작업의 개발 속도가 하루에 4%라면 배포는 2일 뒤에 이루어집니다.  "
   ]
  },
  {
   "cell_type": "code",
   "execution_count": 168,
   "id": "33110a51",
   "metadata": {
    "scrolled": false
   },
   "outputs": [
    {
     "name": "stdout",
     "output_type": "stream",
     "text": [
      "93 30 55\n",
      "1 30 5\n"
     ]
    }
   ],
   "source": [
    "progresses = list(map(int,input().split()))\n",
    "speeds = list(map(int,input().split()))"
   ]
  },
  {
   "cell_type": "code",
   "execution_count": 169,
   "id": "4f58078b",
   "metadata": {},
   "outputs": [
    {
     "name": "stdout",
     "output_type": "stream",
     "text": [
      "[2, 1]\n"
     ]
    }
   ],
   "source": [
    "answer=[] # 정답\n",
    "fun_cnt = 0 # 1배포 기능수\n",
    "day = 0\n",
    "\n",
    "while(len(progresses)!= 0):\n",
    "    pro = progresses[0] + speeds[0]*day\n",
    "    if pro >= 100:\n",
    "        fun_cnt+= 1\n",
    "        progresses.pop(0)\n",
    "        speeds.pop(0)\n",
    "        if len(progresses)== 0:\n",
    "            answer.append(fun_cnt)\n",
    "            break;\n",
    "        continue\n",
    "    if fun_cnt != 0:\n",
    "        answer.append(fun_cnt)\n",
    "        fun_cnt = 0\n",
    "    day+= 1\n",
    "print(answer)"
   ]
  },
  {
   "cell_type": "code",
   "execution_count": null,
   "id": "4f29b05a",
   "metadata": {},
   "outputs": [],
   "source": [
    "def solution(progresses, speeds):\n",
    "    answer = []\n",
    "    answer=[]\n",
    "    fun_cnt = 0\n",
    "    day = 0\n",
    "\n",
    "    while(len(progresses)!= 0):\n",
    "        pro = progresses[0] + speeds[0]*day\n",
    "        if pro >= 100:\n",
    "            fun_cnt+= 1\n",
    "            progresses.pop(0)\n",
    "            speeds.pop(0)\n",
    "            if len(progresses)== 0:\n",
    "                answer.append(fun_cnt)\n",
    "                break;\n",
    "            continue\n",
    "        if fun_cnt != 0:\n",
    "            answer.append(fun_cnt)\n",
    "            fun_cnt = 0\n",
    "        day+= 1\n",
    "\n",
    "    return answer"
   ]
  }
 ],
 "metadata": {
  "kernelspec": {
   "display_name": "Python 3",
   "language": "python",
   "name": "python3"
  },
  "language_info": {
   "codemirror_mode": {
    "name": "ipython",
    "version": 3
   },
   "file_extension": ".py",
   "mimetype": "text/x-python",
   "name": "python",
   "nbconvert_exporter": "python",
   "pygments_lexer": "ipython3",
   "version": "3.8.8"
  }
 },
 "nbformat": 4,
 "nbformat_minor": 5
}
