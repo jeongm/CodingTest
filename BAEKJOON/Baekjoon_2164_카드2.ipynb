{
 "cells": [
  {
   "cell_type": "markdown",
   "id": "e9e9e7a8",
   "metadata": {},
   "source": [
    "## 0908"
   ]
  },
  {
   "cell_type": "markdown",
   "id": "96a18c8e",
   "metadata": {},
   "source": [
    "N장의 카드가 있다. 각각의 카드는 차례로 1부터 N까지의 번호가 붙어 있으며, 1번 카드가 제일 위에, N번 카드가 제일 아래인 상태로 순서대로 카드가 놓여 있다.  \n",
    "\n",
    "이제 다음과 같은 동작을 카드가 한 장 남을 때까지 반복하게 된다. 우선, 제일 위에 있는 카드를 바닥에 버린다. 그 다음, 제일 위에 있는 카드를 제일 아래에 있는 카드 밑으로 옮긴다.  \n",
    "\n",
    "예를 들어 N=4인 경우를 생각해 보자. 카드는 제일 위에서부터 1234 의 순서로 놓여있다. 1을 버리면 234가 남는다. 여기서 2를 제일 아래로 옮기면 342가 된다. 3을 버리면 42가 되고, 4를 밑으로 옮기면 24가 된다. 마지막으로 2를 버리고 나면, 남는 카드는 4가 된다.  \n",
    "\n",
    "N이 주어졌을 때, 제일 마지막에 남게 되는 카드를 구하는 프로그램을 작성하시오."
   ]
  },
  {
   "cell_type": "code",
   "execution_count": 46,
   "id": "0fc6356c",
   "metadata": {},
   "outputs": [
    {
     "name": "stdout",
     "output_type": "stream",
     "text": [
      "6\n",
      "4\n"
     ]
    }
   ],
   "source": [
    "from collections import deque\n",
    "\n",
    "# N = int(sys.stdin.readline().rstrip())\n",
    "N = int(input())\n",
    "\n",
    "\n",
    "card= deque(range(1,N+1))\n",
    "\n",
    "while(len(card) > 1):\n",
    "    card.popleft()\n",
    "    card.append(card[0])\n",
    "    card.popleft()\n",
    "print(card[0])"
   ]
  },
  {
   "cell_type": "code",
   "execution_count": null,
   "id": "7f5a8aad",
   "metadata": {},
   "outputs": [],
   "source": [
    "# 리스트의 pop과 deque의 pop은 다름\n",
    "\n",
    "# N = int(sys.stdin.readline().rstrip())\n",
    "N = int(input())\n",
    "card = [i+1 for i in range(N)]\n",
    "\n",
    "first=0\n",
    "for i in range(N): # N-i => 현재길이\n",
    "    if N == 1:\n",
    "        print(card[0])\n",
    "        break\n",
    "    first += 1 # 1 버렸으니까\n",
    "    card.append(card[first])\n",
    "    if N-i == 2:\n",
    "        print(card[-1])\n",
    "        break\n",
    "    first += 1 # 1 뒤로 보냈으니까\n",
    "    print(card)\n"
   ]
  }
 ],
 "metadata": {
  "kernelspec": {
   "display_name": "Python 3",
   "language": "python",
   "name": "python3"
  },
  "language_info": {
   "codemirror_mode": {
    "name": "ipython",
    "version": 3
   },
   "file_extension": ".py",
   "mimetype": "text/x-python",
   "name": "python",
   "nbconvert_exporter": "python",
   "pygments_lexer": "ipython3",
   "version": "3.8.8"
  }
 },
 "nbformat": 4,
 "nbformat_minor": 5
}
