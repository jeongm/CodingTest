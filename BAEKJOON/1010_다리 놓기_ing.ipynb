{
 "cells": [
  {
   "cell_type": "markdown",
   "id": "7bf59084",
   "metadata": {},
   "source": [
    "https://www.acmicpc.net/problem/1010"
   ]
  },
  {
   "cell_type": "code",
   "execution_count": 34,
   "id": "56b155a0",
   "metadata": {
    "scrolled": true
   },
   "outputs": [
    {
     "name": "stdout",
     "output_type": "stream",
     "text": [
      "4\n",
      "2 2\n",
      "1 5\n",
      "4 7\n",
      "13 29\n"
     ]
    }
   ],
   "source": [
    "T = int(input())\n",
    "site = [list(map(int,input().split()))for i in range(T)]"
   ]
  },
  {
   "cell_type": "code",
   "execution_count": 37,
   "id": "2b608940",
   "metadata": {},
   "outputs": [],
   "source": [
    "def case(n):\n",
    "    if n == 0:\n",
    "        return 0\n",
    "    elif n == 1:\n",
    "        return 1\n",
    "    return n + case(n-1)"
   ]
  },
  {
   "cell_type": "code",
   "execution_count": 53,
   "id": "6f70a9ae",
   "metadata": {},
   "outputs": [
    {
     "name": "stdout",
     "output_type": "stream",
     "text": [
      "경우의 수 0\n",
      "1\n",
      "1\n",
      "1\n",
      "1\n",
      "경우의 수 4\n",
      "1\n",
      "3\n",
      "6\n",
      "10\n",
      "1\n",
      "3\n",
      "6\n",
      "10\n",
      "1\n",
      "3\n",
      "6\n",
      "10\n",
      "경우의 수 60\n",
      "1\n",
      "3\n",
      "6\n",
      "10\n",
      "15\n",
      "21\n",
      "28\n",
      "36\n",
      "45\n",
      "55\n",
      "66\n",
      "78\n",
      "91\n",
      "1\n",
      "3\n",
      "6\n",
      "10\n",
      "15\n",
      "21\n",
      "28\n",
      "36\n",
      "45\n",
      "55\n",
      "66\n",
      "78\n",
      "91\n",
      "1\n",
      "3\n",
      "6\n",
      "10\n",
      "15\n",
      "21\n",
      "28\n",
      "36\n",
      "45\n",
      "55\n",
      "66\n",
      "78\n",
      "91\n",
      "1\n",
      "3\n",
      "6\n",
      "10\n",
      "15\n",
      "21\n",
      "28\n",
      "36\n",
      "45\n",
      "55\n",
      "66\n",
      "78\n",
      "91\n",
      "1\n",
      "3\n",
      "6\n",
      "10\n",
      "15\n",
      "21\n",
      "28\n",
      "36\n",
      "45\n",
      "55\n",
      "66\n",
      "78\n",
      "91\n",
      "1\n",
      "3\n",
      "6\n",
      "10\n",
      "15\n",
      "21\n",
      "28\n",
      "36\n",
      "45\n",
      "55\n",
      "66\n",
      "78\n",
      "91\n",
      "1\n",
      "3\n",
      "6\n",
      "10\n",
      "15\n",
      "21\n",
      "28\n",
      "36\n",
      "45\n",
      "55\n",
      "66\n",
      "78\n",
      "91\n",
      "1\n",
      "3\n",
      "6\n",
      "10\n",
      "15\n",
      "21\n",
      "28\n",
      "36\n",
      "45\n",
      "55\n",
      "66\n",
      "78\n",
      "91\n",
      "1\n",
      "3\n",
      "6\n",
      "10\n",
      "15\n",
      "21\n",
      "28\n",
      "36\n",
      "45\n",
      "55\n",
      "66\n",
      "78\n",
      "91\n",
      "1\n",
      "3\n",
      "6\n",
      "10\n",
      "15\n",
      "21\n",
      "28\n",
      "36\n",
      "45\n",
      "55\n",
      "66\n",
      "78\n",
      "91\n",
      "1\n",
      "3\n",
      "6\n",
      "10\n",
      "15\n",
      "21\n",
      "28\n",
      "36\n",
      "45\n",
      "55\n",
      "66\n",
      "78\n",
      "91\n",
      "1\n",
      "3\n",
      "6\n",
      "10\n",
      "15\n",
      "21\n",
      "28\n",
      "36\n",
      "45\n",
      "55\n",
      "66\n",
      "78\n",
      "91\n",
      "1\n",
      "3\n",
      "6\n",
      "10\n",
      "15\n",
      "21\n",
      "28\n",
      "36\n",
      "45\n",
      "55\n",
      "66\n",
      "78\n",
      "91\n",
      "1\n",
      "3\n",
      "6\n",
      "10\n",
      "15\n",
      "21\n",
      "28\n",
      "36\n",
      "45\n",
      "55\n",
      "66\n",
      "78\n",
      "91\n",
      "1\n",
      "3\n",
      "6\n",
      "10\n",
      "15\n",
      "21\n",
      "28\n",
      "36\n",
      "45\n",
      "55\n",
      "66\n",
      "78\n",
      "91\n",
      "1\n",
      "3\n",
      "6\n",
      "10\n",
      "15\n",
      "21\n",
      "28\n",
      "36\n",
      "45\n",
      "55\n",
      "66\n",
      "78\n",
      "91\n",
      "경우의 수 7280\n"
     ]
    }
   ],
   "source": [
    "\n",
    "for si in site:\n",
    "    site_num = 0\n",
    "    for j in range(si[1]-si[0]):\n",
    "        for i in range(1,si[0]+1):\n",
    "            print(case(i))\n",
    "            site_num += case(i)\n",
    "    \n",
    "    print(\"경우의 수\",site_num)"
   ]
  },
  {
   "cell_type": "code",
   "execution_count": 29,
   "id": "eec4adab",
   "metadata": {
    "scrolled": true
   },
   "outputs": [],
   "source": [
    "def case(n,m,site_case):\n",
    "    site = m-n+1\n",
    "    for i in range(m-n+1):\n",
    "        for j in range(m-n+1):\n",
    "            site += 1\n",
    "        print(n,m,site_case)\n",
    "            \n",
    "    return site_case"
   ]
  },
  {
   "cell_type": "code",
   "execution_count": 30,
   "id": "dc2fabb1",
   "metadata": {
    "scrolled": false
   },
   "outputs": [
    {
     "name": "stdout",
     "output_type": "stream",
     "text": [
      "1 4 4\n",
      "1 4 7\n",
      "1 4 9\n",
      "1 4 10\n",
      "2 2 1\n"
     ]
    },
    {
     "data": {
      "text/plain": [
       "1"
      ]
     },
     "execution_count": 30,
     "metadata": {},
     "output_type": "execute_result"
    }
   ],
   "source": [
    "case(1,4,0)\n",
    "case(2,2,0)\n",
    "case(4,7,0)"
   ]
  },
  {
   "cell_type": "code",
   "execution_count": 31,
   "id": "9528b5e8",
   "metadata": {},
   "outputs": [],
   "source": [
    "sum = 0\n",
    "\n",
    "for i in range(4):\n",
    "    sum+= i"
   ]
  },
  {
   "cell_type": "code",
   "execution_count": 32,
   "id": "30c9baca",
   "metadata": {},
   "outputs": [
    {
     "name": "stdout",
     "output_type": "stream",
     "text": [
      "6\n"
     ]
    }
   ],
   "source": [
    "print(sum)"
   ]
  },
  {
   "cell_type": "code",
   "execution_count": 74,
   "id": "c0cf8e6d",
   "metadata": {},
   "outputs": [],
   "source": [
    "def case(n,m,sc):\n",
    "    if n == 0:\n",
    "        return 0\n",
    "    else: # 시작과 끝을 정해볼까\n",
    "        sc += 1\n",
    "        case(n-1,m,sc)\n",
    "    print(sc)\n",
    "    "
   ]
  },
  {
   "cell_type": "code",
   "execution_count": 75,
   "id": "c1bd5e38",
   "metadata": {},
   "outputs": [
    {
     "name": "stdout",
     "output_type": "stream",
     "text": [
      "2\n",
      "1\n",
      "결말 None\n"
     ]
    }
   ],
   "source": [
    "print(\"결말\",case(2,2,0))"
   ]
  },
  {
   "cell_type": "code",
   "execution_count": 76,
   "id": "278c4db6",
   "metadata": {},
   "outputs": [
    {
     "name": "stdout",
     "output_type": "stream",
     "text": [
      "1\n"
     ]
    }
   ],
   "source": [
    "case(1,4,0)"
   ]
  },
  {
   "cell_type": "code",
   "execution_count": null,
   "id": "13ffd8ab",
   "metadata": {},
   "outputs": [],
   "source": []
  }
 ],
 "metadata": {
  "kernelspec": {
   "display_name": "Python 3",
   "language": "python",
   "name": "python3"
  },
  "language_info": {
   "codemirror_mode": {
    "name": "ipython",
    "version": 3
   },
   "file_extension": ".py",
   "mimetype": "text/x-python",
   "name": "python",
   "nbconvert_exporter": "python",
   "pygments_lexer": "ipython3",
   "version": "3.8.8"
  }
 },
 "nbformat": 4,
 "nbformat_minor": 5
}
