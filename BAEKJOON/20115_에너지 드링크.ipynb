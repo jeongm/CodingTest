{
 "cells": [
  {
   "cell_type": "markdown",
   "id": "7d1ca87a",
   "metadata": {},
   "source": [
    "## 9013"
   ]
  },
  {
   "cell_type": "markdown",
   "id": "9d81ffd5",
   "metadata": {},
   "source": [
    "페인은 에너지 드링크를 좋아하는 회사원이다. 에너지 드링크는 카페인, 아르기닌, 타우린, 나이아신 등의 성분이 들어있어 피로 회복에 도움을 주는 에너지 보충 음료수이다.\n",
    "\n",
    "야근을 마치고 한밤중에 퇴근하니 벌써 새벽 1시. 하지만 주말은 아직 멀었고, 다음 날에도 정시에 출근해야 하는 페인은 오늘도 에너지 드링크를 찾는다.\n",
    "\n",
    "반복되는 야근에 지친 나머지, 평소보다 더 많은 에너지와 피로 회복이 필요했던 페인은 집에 있던 에너지 드링크들을 한 데 합쳐서, 하나의 에너지 드링크로 만들어 한번에 마시려 한다.\n",
    "\n",
    "페인이 에너지 드링크들을 합치는 과정은 다음과 같다.\n",
    "\n",
    "1. 임의의 서로 다른 두 에너지 드링크를 고른다.  \n",
    "2. 한쪽 에너지 드링크를 다른 쪽 에너지 드링크에 모두 붓는다. 단, 페인은 야근 후유증으로 인해 손이 떨려, 붓는 과정에서 원래 양의 절반을 바닥에 흘리게 된다.  \n",
    "3. 다 붓고 남은 빈 에너지 드링크는 버린다.  \n",
    "4. 1~3 과정을 에너지 드링크가 하나만 남을 때까지 반복한다.  \n",
    "\n",
    "예를 들어, 두 에너지 드링크 a, b가 있고, 양이 각각 xa, xb라 할 때, 다음 둘 중 하나의 선택을 할 수 있다.  \n",
    "\n",
    "a의 양을 xa + (xb / 2)로 만들고, b를 버리기  \n",
    "b의 양을 xb + (xa / 2)로 만들고, a를 버리기  \n",
    "페인은 합쳐진 에너지 드링크의 양을 최대로 하려 한다. 불쌍한 페인을 도와주자!"
   ]
  },
  {
   "cell_type": "code",
   "execution_count": 9,
   "id": "47fee549",
   "metadata": {},
   "outputs": [
    {
     "name": "stdout",
     "output_type": "stream",
     "text": [
      "10\n",
      "100 9 77 65 39 27 45 1 80 495\n"
     ]
    }
   ],
   "source": [
    "N = int(input())\n",
    "e_drink = list(map(int, input().split()))"
   ]
  },
  {
   "cell_type": "code",
   "execution_count": 10,
   "id": "378ec415",
   "metadata": {},
   "outputs": [
    {
     "name": "stdout",
     "output_type": "stream",
     "text": [
      "716.5\n"
     ]
    }
   ],
   "source": [
    "e_drink.sort(reverse = True)\n",
    "max_d = e_drink[0]\n",
    "\n",
    "for drink in e_drink[1:]:\n",
    "    max_d += drink/2\n",
    "\n",
    "print(max_d)"
   ]
  },
  {
   "cell_type": "code",
   "execution_count": null,
   "id": "a353ad5a",
   "metadata": {},
   "outputs": [],
   "source": []
  }
 ],
 "metadata": {
  "kernelspec": {
   "display_name": "Python 3",
   "language": "python",
   "name": "python3"
  },
  "language_info": {
   "codemirror_mode": {
    "name": "ipython",
    "version": 3
   },
   "file_extension": ".py",
   "mimetype": "text/x-python",
   "name": "python",
   "nbconvert_exporter": "python",
   "pygments_lexer": "ipython3",
   "version": "3.8.8"
  }
 },
 "nbformat": 4,
 "nbformat_minor": 5
}
