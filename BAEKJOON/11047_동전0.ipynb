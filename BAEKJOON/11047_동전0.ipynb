{
 "cells": [
  {
   "cell_type": "markdown",
   "id": "f2ae606e",
   "metadata": {},
   "source": [
    "### 20220325"
   ]
  },
  {
   "cell_type": "markdown",
   "id": "3c668fb8",
   "metadata": {},
   "source": [
    "준규가 가지고 있는 동전은 총 N종류이고, 각각의 동전을 매우 많이 가지고 있다.\n",
    "\n",
    "동전을 적절히 사용해서 그 가치의 합을 K로 만들려고 한다. 이때 필요한 동전 개수의 최솟값을 구하는 프로그램을 작성하시오."
   ]
  },
  {
   "cell_type": "code",
   "execution_count": 61,
   "id": "f49d1ad1",
   "metadata": {},
   "outputs": [
    {
     "name": "stdout",
     "output_type": "stream",
     "text": [
      "10 4200\n",
      "1\n",
      "5\n",
      "10\n",
      "50\n",
      "100\n",
      "500\n",
      "1000\n",
      "5000\n",
      "10000\n",
      "50000\n"
     ]
    }
   ],
   "source": [
    "N, K = map(int, input().split(' '))\n",
    "coin_value = [int(input()) for i in range(N) ]"
   ]
  },
  {
   "cell_type": "code",
   "execution_count": 59,
   "id": "d190a471",
   "metadata": {},
   "outputs": [],
   "source": [
    "coin_rev = list(reversed(coin_value))"
   ]
  },
  {
   "cell_type": "code",
   "execution_count": 65,
   "id": "2e575e2f",
   "metadata": {},
   "outputs": [
    {
     "name": "stdout",
     "output_type": "stream",
     "text": [
      "0 0 4200\n",
      "0 0 4200\n",
      "0 0 4200\n",
      "4000 4 4200\n",
      "4000 4 4200\n",
      "4200 6 4200\n",
      "4200 6 4200\n",
      "4200 6 4200\n",
      "4200 6 4200\n",
      "4200 6 4200\n",
      "6\n"
     ]
    }
   ],
   "source": [
    "coin_num = 0 # 최소 코인 개수\n",
    "\n",
    "for c in coin_rev:\n",
    "    if K == 0:\n",
    "        break\n",
    "    coin_num += K//c\n",
    "    K = K%c\n",
    "\n",
    "print(coin_num)"
   ]
  },
  {
   "cell_type": "code",
   "execution_count": 71,
   "id": "b9141fb8",
   "metadata": {},
   "outputs": [
    {
     "name": "stdout",
     "output_type": "stream",
     "text": [
      "3 4\n",
      "2\n",
      "3\n",
      "5\n",
      "1\n"
     ]
    }
   ],
   "source": [
    "N, K = map(int, input().split(' '))\n",
    "coin_value = [int(input()) for i in range(N) ]\n",
    "\n",
    "coin_rev = list(reversed(coin_value))\n",
    "\n",
    "coin_num = 0 # 최소 코인 개수\n",
    "\n",
    "for c in coin_rev:\n",
    "    if K == 0:\n",
    "        break\n",
    "    coin_num += K//c\n",
    "    K = K%c\n",
    "\n",
    "print(coin_num)"
   ]
  },
  {
   "cell_type": "code",
   "execution_count": null,
   "id": "25c0b1af",
   "metadata": {},
   "outputs": [],
   "source": []
  }
 ],
 "metadata": {
  "kernelspec": {
   "display_name": "Python 3",
   "language": "python",
   "name": "python3"
  },
  "language_info": {
   "codemirror_mode": {
    "name": "ipython",
    "version": 3
   },
   "file_extension": ".py",
   "mimetype": "text/x-python",
   "name": "python",
   "nbconvert_exporter": "python",
   "pygments_lexer": "ipython3",
   "version": "3.8.8"
  }
 },
 "nbformat": 4,
 "nbformat_minor": 5
}
