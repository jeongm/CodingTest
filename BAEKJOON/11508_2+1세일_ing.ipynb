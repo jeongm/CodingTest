{
 "cells": [
  {
   "cell_type": "markdown",
   "id": "f157fb85",
   "metadata": {},
   "source": [
    "### 20220308"
   ]
  },
  {
   "cell_type": "markdown",
   "id": "ec6cf3e3",
   "metadata": {},
   "source": [
    "KSG 편의점에서는 과일우유, 드링킹요구르트 등의 유제품을 '2+1 세일'하는 행사를 하고 있습니다. KSG 편의점에서 유제품 3개를 한 번에 산다면 그중에서 가장 싼 것은 무료로 지불하고 나머지 두 개의 제품 가격만 지불하면 됩니다. 한 번에 3개의 유제품을 사지 않는다면 할인 없이 정가를 지불해야 합니다.\n",
    "\n",
    "예를 들어, 7개의 유제품이 있어서 각 제품의 가격이 10, 9, 4, 2, 6, 4, 3이고 재현이가 (10, 3, 2), (4, 6, 4), (9)로 총 3번에 걸쳐서 물건을 산다면 첫 번째 꾸러미에서는 13원을, 두 번째 꾸러미에서는 10원을, 세 번째 꾸러미에서는 9원을 지불해야 합니다.\n",
    "\n",
    "재현이는 KSG 편의점에서 친구들과 같이 먹을 총 N팩의 유제품을 구입하려고 합니다. 재현이를 도와 최소비용으로 유제품을 구입할 수 있도록 도와주세요!"
   ]
  },
  {
   "cell_type": "code",
   "execution_count": 28,
   "id": "68f8154a",
   "metadata": {},
   "outputs": [
    {
     "name": "stdout",
     "output_type": "stream",
     "text": [
      "6\n",
      "6\n",
      "4\n",
      "5\n",
      "5\n",
      "5\n",
      "5\n"
     ]
    }
   ],
   "source": [
    "N = int(input())\n",
    "price = [int(input()) for i in range(N)]\n"
   ]
  },
  {
   "cell_type": "code",
   "execution_count": 29,
   "id": "55bf7412",
   "metadata": {},
   "outputs": [],
   "source": [
    "price_sort = sorted(price, reverse = True) # 정렬"
   ]
  },
  {
   "cell_type": "code",
   "execution_count": 34,
   "id": "a4709fee",
   "metadata": {},
   "outputs": [
    {
     "name": "stdout",
     "output_type": "stream",
     "text": [
      "21\n"
     ]
    }
   ],
   "source": [
    "\n",
    "mini_cost = 0\n",
    "for p in range(len(price_sort)):\n",
    "    if p%3 == 2 :\n",
    "        pass\n",
    "    else :\n",
    "        mini_cost += price_sort[p]\n",
    "    \n",
    "print(mini_cost)"
   ]
  },
  {
   "cell_type": "code",
   "execution_count": 40,
   "id": "677d164c",
   "metadata": {},
   "outputs": [
    {
     "name": "stdout",
     "output_type": "stream",
     "text": [
      "6\n",
      "6\n",
      "4\n",
      "5\n",
      "5\n",
      "5\n",
      "5\n",
      "21\n"
     ]
    }
   ],
   "source": [
    "N = int(input())\n",
    "price = [int(input()) for i in range(N)]\n",
    "\n",
    "price_sort = sorted(price, reverse = True) # 정렬\n",
    "\n",
    "mini_cost = 0\n",
    "for p in range(len(price_sort)):\n",
    "    if p%3 == 2 :\n",
    "        pass\n",
    "    else :\n",
    "        mini_cost += price_sort[p]\n",
    "    \n",
    "print(mini_cost)"
   ]
  },
  {
   "cell_type": "code",
   "execution_count": null,
   "id": "f503cf5f",
   "metadata": {},
   "outputs": [],
   "source": []
  }
 ],
 "metadata": {
  "kernelspec": {
   "display_name": "Python 3",
   "language": "python",
   "name": "python3"
  },
  "language_info": {
   "codemirror_mode": {
    "name": "ipython",
    "version": 3
   },
   "file_extension": ".py",
   "mimetype": "text/x-python",
   "name": "python",
   "nbconvert_exporter": "python",
   "pygments_lexer": "ipython3",
   "version": "3.8.8"
  }
 },
 "nbformat": 4,
 "nbformat_minor": 5
}
