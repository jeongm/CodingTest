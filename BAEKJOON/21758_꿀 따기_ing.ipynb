{
 "cells": [
  {
   "cell_type": "markdown",
   "id": "31fcd535",
   "metadata": {},
   "source": [
    "### 20220325"
   ]
  },
  {
   "cell_type": "markdown",
   "id": "e3b1dda6",
   "metadata": {},
   "source": [
    "아래와 같이 좌우로 $N$개의 장소가 있다.\n",
    "            9 9 4 1 4 9 9\n",
    "\n",
    "장소들 중 서로 다른 두 곳을 골라서 벌을 한 마리씩 둔다. 또, 다른 한 장소를 골라서 벌통을 둔다. 아래 그림에서 연한 회색의 장소는 벌이 있는 장소이고 진한 회색의 장소는 벌통이 있는 장소이다.\n",
    "\n",
    "\n",
    "\n",
    "두 마리 벌은 벌통으로 똑바로 날아가면서 지나가는 모든 칸에서 꿀을 딴다. 각 장소에 적힌 숫자는 벌이 지나가면서 꿀을 딸 수 있는 양이다.\n",
    "\n",
    "두 마리가 모두 지나간 장소에서는 두 마리 모두 표시된 양 만큼의 꿀을 딴다. (벌통이 있는 장소에서도 같다.)\n",
    "벌이 시작한 장소에서는 어떤 벌도 꿀을 딸 수 없다.\n",
    "위의 그림과 같이 배치된 경우 두 마리의 벌 모두 $4 + 1 + 4 + 9 + 9 = 27$의 꿀을 따서, 전체 꿀의 양은 54가 된다.\n",
    "\n",
    "\n",
    "\n",
    "위의 그림과 같이 배치된 경우 왼쪽 장소에서 출발한 벌은 $9 + 4 + 4 + 9 + 9 = 35$의 꿀을 따고 오른쪽 장소에서 출발한 벌은 $4 + 9 + 9 = 22$의 꿀을 따므로, 전체 꿀의 양은 $57$이 된다.\n",
    "\n",
    "\n",
    "\n",
    "위의 그림과 같은 경우는 전체 꿀의 양이 31이 된다.\n",
    "\n",
    "장소들의 꿀 양을 입력으로 받아 벌들이 딸 수 있는 가능한 최대의 꿀의 양을 계산하는 프로그램을 작성하라.\n",
    "\n",
    "입력\n",
    "첫 번째 줄에 장소의 수 $N$이 주어진다.\n",
    "\n",
    "다음 줄에 왼쪽부터 각 장소에서 꿀을 딸 수 있는 양이 공백 하나씩을 사이에 두고 주어진다.\n",
    "\n",
    "출력\n",
    "첫 번째 줄에 가능한 최대의 꿀의 양을 출력한다.\n",
    "\n",
    "https://www.acmicpc.net/problem/21758"
   ]
  },
  {
   "cell_type": "code",
   "execution_count": 20,
   "id": "8f64fd0e",
   "metadata": {
    "scrolled": true
   },
   "outputs": [
    {
     "name": "stdout",
     "output_type": "stream",
     "text": [
      "3\n",
      "2 5 3\n"
     ]
    }
   ],
   "source": [
    "N = int(input())\n",
    "honey = list(map(int,input().split()))"
   ]
  },
  {
   "cell_type": "markdown",
   "id": "9b64d3d1",
   "metadata": {},
   "source": [
    "0. 방향 정해야함 \n",
    "1. 첫 번째 벌은 [0]\n",
    "2. 두 번째 벌은 [1] 부터\n",
    "    bee2는 bee2+1보다 작아야 한다. \n",
    "    \n",
    "3. 꿀통은 벌 시작의 반대방향에서 시작해 +1보다 작아야"
   ]
  },
  {
   "cell_type": "code",
   "execution_count": null,
   "id": "dc94f864",
   "metadata": {},
   "outputs": [],
   "source": []
  },
  {
   "cell_type": "code",
   "execution_count": null,
   "id": "11ee0565",
   "metadata": {},
   "outputs": [],
   "source": []
  },
  {
   "cell_type": "code",
   "execution_count": null,
   "id": "ed1832da",
   "metadata": {},
   "outputs": [],
   "source": []
  },
  {
   "cell_type": "code",
   "execution_count": null,
   "id": "b885332e",
   "metadata": {},
   "outputs": [],
   "source": []
  },
  {
   "cell_type": "code",
   "execution_count": null,
   "id": "ad25af24",
   "metadata": {},
   "outputs": [],
   "source": []
  },
  {
   "cell_type": "code",
   "execution_count": null,
   "id": "e1fdb6c2",
   "metadata": {},
   "outputs": [],
   "source": []
  },
  {
   "cell_type": "code",
   "execution_count": null,
   "id": "5b59a092",
   "metadata": {},
   "outputs": [],
   "source": []
  },
  {
   "cell_type": "code",
   "execution_count": null,
   "id": "86d99501",
   "metadata": {},
   "outputs": [],
   "source": []
  },
  {
   "cell_type": "code",
   "execution_count": null,
   "id": "616edda5",
   "metadata": {},
   "outputs": [],
   "source": []
  },
  {
   "cell_type": "code",
   "execution_count": null,
   "id": "e120b047",
   "metadata": {},
   "outputs": [],
   "source": []
  },
  {
   "cell_type": "code",
   "execution_count": null,
   "id": "956214e4",
   "metadata": {},
   "outputs": [],
   "source": []
  },
  {
   "cell_type": "code",
   "execution_count": 21,
   "id": "7f50f781",
   "metadata": {
    "scrolled": true
   },
   "outputs": [
    {
     "name": "stdout",
     "output_type": "stream",
     "text": [
      "[3, 5, 2]\n",
      "[2, 5, 3]\n"
     ]
    }
   ],
   "source": [
    "honey_re = list(reversed(honey))\n",
    "print(honey_re)\n",
    "print(honey)"
   ]
  },
  {
   "cell_type": "code",
   "execution_count": 22,
   "id": "826aaa44",
   "metadata": {},
   "outputs": [
    {
     "ename": "IndexError",
     "evalue": "list index out of range",
     "output_type": "error",
     "traceback": [
      "\u001b[1;31m---------------------------------------------------------------------------\u001b[0m",
      "\u001b[1;31mIndexError\u001b[0m                                Traceback (most recent call last)",
      "\u001b[1;32m<ipython-input-22-a0dc267510d3>\u001b[0m in \u001b[0;36m<module>\u001b[1;34m\u001b[0m\n\u001b[0;32m      3\u001b[0m \u001b[1;31m#honey_bucket = 0\u001b[0m\u001b[1;33m\u001b[0m\u001b[1;33m\u001b[0m\u001b[1;33m\u001b[0m\u001b[0m\n\u001b[0;32m      4\u001b[0m \u001b[1;33m\u001b[0m\u001b[0m\n\u001b[1;32m----> 5\u001b[1;33m \u001b[1;32mwhile\u001b[0m \u001b[0mhoney\u001b[0m\u001b[1;33m[\u001b[0m\u001b[0mbee2\u001b[0m\u001b[1;33m]\u001b[0m \u001b[1;33m>\u001b[0m \u001b[0mhoney\u001b[0m\u001b[1;33m[\u001b[0m\u001b[0mbee2\u001b[0m\u001b[1;33m+\u001b[0m\u001b[1;36m1\u001b[0m\u001b[1;33m]\u001b[0m\u001b[1;33m:\u001b[0m\u001b[1;33m\u001b[0m\u001b[1;33m\u001b[0m\u001b[0m\n\u001b[0m\u001b[0;32m      6\u001b[0m     \u001b[0mbee2\u001b[0m \u001b[1;33m+=\u001b[0m \u001b[1;36m1\u001b[0m\u001b[1;33m\u001b[0m\u001b[1;33m\u001b[0m\u001b[0m\n\u001b[0;32m      7\u001b[0m \u001b[1;33m\u001b[0m\u001b[0m\n",
      "\u001b[1;31mIndexError\u001b[0m: list index out of range"
     ]
    }
   ],
   "source": [
    "bee1 = 0 # 위치\n",
    "bee2 = 1\n",
    "#honey_bucket = 0\n",
    "\n",
    "while honey[bee2] > honey[bee2+1]:\n",
    "    bee2 += 1\n",
    "\n",
    "sum = 0\n",
    "for i in range(len(honey)):\n",
    "    if i == bee1 or i ==bee2:\n",
    "        continue\n",
    "    elif i > bee2:\n",
    "        sum+=honey[i]\n",
    "    sum += honey[i]\n",
    "\n",
    "\n",
    "while honey_re[bee2] > honey_re[bee2+1]:\n",
    "    bee2 += 1\n",
    "\n",
    "re_sum = 0\n",
    "for i in range(len(honey)):\n",
    "    if i == bee1 or i ==bee2:\n",
    "        continue\n",
    "    elif i > bee2:\n",
    "        re_sum+=honey[i]\n",
    "    re_sum += honey[i]\n",
    "#for h in range(len(honey)-1, -1, -1):\n",
    "\n",
    "print(bee1, bee2)\n",
    "if sum < re_sum:\n",
    "    print(re_sum)\n",
    "else :\n",
    "    print(sum)\n",
    "    print(\"sum이 더 큼\")\n"
   ]
  },
  {
   "cell_type": "code",
   "execution_count": null,
   "id": "14497042",
   "metadata": {},
   "outputs": [],
   "source": []
  }
 ],
 "metadata": {
  "kernelspec": {
   "display_name": "Python 3",
   "language": "python",
   "name": "python3"
  },
  "language_info": {
   "codemirror_mode": {
    "name": "ipython",
    "version": 3
   },
   "file_extension": ".py",
   "mimetype": "text/x-python",
   "name": "python",
   "nbconvert_exporter": "python",
   "pygments_lexer": "ipython3",
   "version": "3.8.8"
  }
 },
 "nbformat": 4,
 "nbformat_minor": 5
}
