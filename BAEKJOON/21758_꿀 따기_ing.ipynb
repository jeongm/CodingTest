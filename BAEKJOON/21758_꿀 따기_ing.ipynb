{
 "cells": [
  {
   "cell_type": "markdown",
   "id": "31fcd535",
   "metadata": {},
   "source": [
    "### 20220325"
   ]
  },
  {
   "cell_type": "markdown",
   "id": "e3b1dda6",
   "metadata": {},
   "source": [
    "아래와 같이 좌우로 $N$개의 장소가 있다.\n",
    "            9 9 4 1 4 9 9\n",
    "\n",
    "장소들 중 서로 다른 두 곳을 골라서 벌을 한 마리씩 둔다. 또, 다른 한 장소를 골라서 벌통을 둔다. 아래 그림에서 연한 회색의 장소는 벌이 있는 장소이고 진한 회색의 장소는 벌통이 있는 장소이다.\n",
    "\n",
    "\n",
    "\n",
    "두 마리 벌은 벌통으로 똑바로 날아가면서 지나가는 모든 칸에서 꿀을 딴다. 각 장소에 적힌 숫자는 벌이 지나가면서 꿀을 딸 수 있는 양이다.\n",
    "\n",
    "두 마리가 모두 지나간 장소에서는 두 마리 모두 표시된 양 만큼의 꿀을 딴다. (벌통이 있는 장소에서도 같다.)\n",
    "벌이 시작한 장소에서는 어떤 벌도 꿀을 딸 수 없다.\n",
    "위의 그림과 같이 배치된 경우 두 마리의 벌 모두 $4 + 1 + 4 + 9 + 9 = 27$의 꿀을 따서, 전체 꿀의 양은 54가 된다.\n",
    "\n",
    "\n",
    "\n",
    "위의 그림과 같이 배치된 경우 왼쪽 장소에서 출발한 벌은 $9 + 4 + 4 + 9 + 9 = 35$의 꿀을 따고 오른쪽 장소에서 출발한 벌은 $4 + 9 + 9 = 22$의 꿀을 따므로, 전체 꿀의 양은 $57$이 된다.\n",
    "\n",
    "\n",
    "\n",
    "위의 그림과 같은 경우는 전체 꿀의 양이 31이 된다.\n",
    "\n",
    "장소들의 꿀 양을 입력으로 받아 벌들이 딸 수 있는 가능한 최대의 꿀의 양을 계산하는 프로그램을 작성하라.\n",
    "\n",
    "입력\n",
    "첫 번째 줄에 장소의 수 $N$이 주어진다.\n",
    "\n",
    "다음 줄에 왼쪽부터 각 장소에서 꿀을 딸 수 있는 양이 공백 하나씩을 사이에 두고 주어진다.\n",
    "\n",
    "출력\n",
    "첫 번째 줄에 가능한 최대의 꿀의 양을 출력한다.\n",
    "\n",
    "https://www.acmicpc.net/problem/21758"
   ]
  },
  {
   "cell_type": "code",
   "execution_count": 5,
   "id": "8f64fd0e",
   "metadata": {},
   "outputs": [
    {
     "name": "stdout",
     "output_type": "stream",
     "text": [
      "7\n",
      "9 9 4 1 4 9 9\n"
     ]
    }
   ],
   "source": [
    "N = int(input())\n",
    "honey = list(map(int,input().split()))"
   ]
  },
  {
   "cell_type": "code",
   "execution_count": null,
   "id": "826aaa44",
   "metadata": {},
   "outputs": [],
   "source": []
  }
 ],
 "metadata": {
  "kernelspec": {
   "display_name": "Python 3",
   "language": "python",
   "name": "python3"
  },
  "language_info": {
   "codemirror_mode": {
    "name": "ipython",
    "version": 3
   },
   "file_extension": ".py",
   "mimetype": "text/x-python",
   "name": "python",
   "nbconvert_exporter": "python",
   "pygments_lexer": "ipython3",
   "version": "3.8.8"
  }
 },
 "nbformat": 4,
 "nbformat_minor": 5
}
