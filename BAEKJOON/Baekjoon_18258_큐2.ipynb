{
 "cells": [
  {
   "cell_type": "markdown",
   "id": "a79befcd",
   "metadata": {},
   "source": [
    "## 0907"
   ]
  },
  {
   "cell_type": "code",
   "execution_count": null,
   "id": "7ff5d4a1",
   "metadata": {},
   "outputs": [],
   "source": [
    "정수를 저장하는 큐를 구현한 다음, 입력으로 주어지는 명령을 처리하는 프로그램을 작성하시오.  \n",
    "\n",
    "명령은 총 여섯 가지이다.  \n",
    "\n",
    "push X: 정수 X를 큐에 넣는 연산이다.  \n",
    "pop: 큐에서 가장 앞에 있는 정수를 빼고, 그 수를 출력한다. 만약 큐에 들어있는 정수가 없는 경우에는 -1을 출력한다.  \n",
    "size: 큐에 들어있는 정수의 개수를 출력한다.  \n",
    "empty: 큐가 비어있으면 1, 아니면 0을 출력한다.  \n",
    "front: 큐의 가장 앞에 있는 정수를 출력한다. 만약 큐에 들어있는 정수가 없는 경우에는 -1을 출력한다.  \n",
    "back: 큐의 가장 뒤에 있는 정수를 출력한다. 만약 큐에 들어있는 정수가 없는 경우에는 -1을 출력한다.  "
   ]
  },
  {
   "cell_type": "code",
   "execution_count": 5,
   "id": "1b86fc3c",
   "metadata": {},
   "outputs": [
    {
     "name": "stdout",
     "output_type": "stream",
     "text": [
      "15\n",
      "push 1\n",
      "push 13\n",
      "front\n",
      "1\n",
      "back\n",
      "13\n",
      "size\n",
      "2\n",
      "empty\n",
      "0\n",
      "pop\n",
      "1\n",
      "pop\n",
      "13\n",
      "pop\n",
      "-1\n",
      "size\n",
      "0\n",
      "empty\n",
      "1\n",
      "pop\n",
      "-1\n",
      "push 3\n",
      "empty\n",
      "0\n",
      "front\n",
      "3\n"
     ]
    }
   ],
   "source": [
    "import sys\n",
    "\n",
    "queue=[]\n",
    "\n",
    "# N = int(sys.stdin.readline().rstrip())\n",
    "N = int(input())\n",
    "pc = 0\n",
    "for i in range(N):\n",
    "#     x = sys.stdin.readline().rstrip().split()\n",
    "    x = list(input().split())\n",
    "    if x[0] == \"push\":\n",
    "        num = int(x[1])\n",
    "        queue.append(num)\n",
    "    elif x[0] == \"pop\":\n",
    "        if len(queue) == pc: # 비어있음\n",
    "            print(-1)\n",
    "            pc = 0\n",
    "            queue=[]\n",
    "        else :\n",
    "            print(queue[pc])\n",
    "            pc+=1\n",
    "    elif x[0] == \"size\":\n",
    "        print(len(queue)-pc)\n",
    "    elif x[0] == \"empty\":\n",
    "        if len(queue) == pc: # 비어있음\n",
    "            print(1)\n",
    "        else :\n",
    "            print(0)\n",
    "    elif x[0] == 'front':\n",
    "        if len(queue) == pc:\n",
    "            print(-1)\n",
    "        else :\n",
    "            print(queue[pc])\n",
    "    elif x[0] =='back':\n",
    "        if len(queue) == pc:\n",
    "            print(-1)\n",
    "        else :\n",
    "            print(queue[-1])\n"
   ]
  },
  {
   "cell_type": "code",
   "execution_count": null,
   "id": "94b2bc9d",
   "metadata": {},
   "outputs": [],
   "source": []
  }
 ],
 "metadata": {
  "kernelspec": {
   "display_name": "Python 3",
   "language": "python",
   "name": "python3"
  },
  "language_info": {
   "codemirror_mode": {
    "name": "ipython",
    "version": 3
   },
   "file_extension": ".py",
   "mimetype": "text/x-python",
   "name": "python",
   "nbconvert_exporter": "python",
   "pygments_lexer": "ipython3",
   "version": "3.8.8"
  }
 },
 "nbformat": 4,
 "nbformat_minor": 5
}
