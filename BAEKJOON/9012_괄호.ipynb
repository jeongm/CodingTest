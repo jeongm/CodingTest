{
 "cells": [
  {
   "cell_type": "code",
   "execution_count": 1,
   "id": "c84b7123",
   "metadata": {},
   "outputs": [
    {
     "name": "stdout",
     "output_type": "stream",
     "text": [
      "1\n",
      "((\n",
      "NO\n"
     ]
    }
   ],
   "source": [
    "T = int(input())\n",
    "\n",
    "for i in range(T):\n",
    "    vps = input()\n",
    "    end = 0;left = 0;right=0\n",
    "    for ps in vps:\n",
    "        end+=1\n",
    "        if ps == '(':\n",
    "            left += 1\n",
    "        else :\n",
    "            right += 1\n",
    "        if right > left :\n",
    "            print('NO')\n",
    "            break;\n",
    "        elif end == len(vps):\n",
    "            if left == right:\n",
    "                print('YES')\n",
    "            else :\n",
    "                print('NO')\n",
    "                "
   ]
  },
  {
   "cell_type": "code",
   "execution_count": null,
   "id": "11e6a0ff",
   "metadata": {},
   "outputs": [],
   "source": []
  }
 ],
 "metadata": {
  "kernelspec": {
   "display_name": "Python 3",
   "language": "python",
   "name": "python3"
  },
  "language_info": {
   "codemirror_mode": {
    "name": "ipython",
    "version": 3
   },
   "file_extension": ".py",
   "mimetype": "text/x-python",
   "name": "python",
   "nbconvert_exporter": "python",
   "pygments_lexer": "ipython3",
   "version": "3.8.8"
  }
 },
 "nbformat": 4,
 "nbformat_minor": 5
}
