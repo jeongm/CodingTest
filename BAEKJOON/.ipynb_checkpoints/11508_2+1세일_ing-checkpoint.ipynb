{
 "cells": [
  {
   "cell_type": "markdown",
   "id": "3cfead3d",
   "metadata": {},
   "source": [
    "### 20220308"
   ]
  },
  {
   "cell_type": "markdown",
   "id": "2816dc7b",
   "metadata": {},
   "source": [
    "KSG 편의점에서는 과일우유, 드링킹요구르트 등의 유제품을 '2+1 세일'하는 행사를 하고 있습니다. KSG 편의점에서 유제품 3개를 한 번에 산다면 그중에서 가장 싼 것은 무료로 지불하고 나머지 두 개의 제품 가격만 지불하면 됩니다. 한 번에 3개의 유제품을 사지 않는다면 할인 없이 정가를 지불해야 합니다.\n",
    "\n",
    "예를 들어, 7개의 유제품이 있어서 각 제품의 가격이 10, 9, 4, 2, 6, 4, 3이고 재현이가 (10, 3, 2), (4, 6, 4), (9)로 총 3번에 걸쳐서 물건을 산다면 첫 번째 꾸러미에서는 13원을, 두 번째 꾸러미에서는 10원을, 세 번째 꾸러미에서는 9원을 지불해야 합니다.\n",
    "\n",
    "재현이는 KSG 편의점에서 친구들과 같이 먹을 총 N팩의 유제품을 구입하려고 합니다. 재현이를 도와 최소비용으로 유제품을 구입할 수 있도록 도와주세요!"
   ]
  },
  {
   "cell_type": "code",
   "execution_count": 14,
   "id": "2749484e",
   "metadata": {},
   "outputs": [
    {
     "name": "stdout",
     "output_type": "stream",
     "text": [
      "7\n",
      "10\n",
      "9\n",
      "4\n",
      "2\n",
      "6\n",
      "4\n",
      "3\n"
     ]
    }
   ],
   "source": [
    "N = int(input())\n",
    "price = [int(input()) for i in range(N)]\n"
   ]
  },
  {
   "cell_type": "code",
   "execution_count": 55,
   "id": "6d1ef62d",
   "metadata": {},
   "outputs": [],
   "source": [
    "price_sort = sorted(price) # 정렬"
   ]
  },
  {
   "cell_type": "code",
   "execution_count": 56,
   "id": "1f1b6b3d",
   "metadata": {},
   "outputs": [
    {
     "name": "stdout",
     "output_type": "stream",
     "text": [
      "[2, 3, 4, 4, 6, 9, 10] 7\n",
      "2 4 10\n",
      "[3, 4, 6, 9] 13\n",
      "6\n",
      "[3, 4] 2\n"
     ]
    },
    {
     "ename": "IndexError",
     "evalue": "pop index out of range",
     "output_type": "error",
     "traceback": [
      "\u001b[1;31m---------------------------------------------------------------------------\u001b[0m",
      "\u001b[1;31mIndexError\u001b[0m                                Traceback (most recent call last)",
      "\u001b[1;32m<ipython-input-56-ce470e9e72ea>\u001b[0m in \u001b[0;36m<module>\u001b[1;34m\u001b[0m\n\u001b[0;32m      7\u001b[0m     \u001b[0mmini_cost\u001b[0m \u001b[1;33m=\u001b[0m \u001b[0mmini_cost\u001b[0m \u001b[1;33m+\u001b[0m \u001b[0mprice_sort\u001b[0m\u001b[1;33m[\u001b[0m\u001b[1;36m1\u001b[0m\u001b[1;33m]\u001b[0m \u001b[1;33m+\u001b[0m \u001b[0mprice_sort\u001b[0m\u001b[1;33m[\u001b[0m\u001b[1;33m-\u001b[0m\u001b[1;36m1\u001b[0m\u001b[1;33m]\u001b[0m\u001b[1;33m\u001b[0m\u001b[1;33m\u001b[0m\u001b[0m\n\u001b[0;32m      8\u001b[0m     \u001b[0mprint\u001b[0m\u001b[1;33m(\u001b[0m\u001b[0mprice_sort\u001b[0m\u001b[1;33m,\u001b[0m \u001b[0mlen\u001b[0m\u001b[1;33m(\u001b[0m\u001b[0mprice_sort\u001b[0m\u001b[1;33m)\u001b[0m\u001b[1;33m)\u001b[0m\u001b[1;33m\u001b[0m\u001b[1;33m\u001b[0m\u001b[0m\n\u001b[1;32m----> 9\u001b[1;33m     \u001b[0mprint\u001b[0m\u001b[1;33m(\u001b[0m\u001b[0mprice_sort\u001b[0m\u001b[1;33m.\u001b[0m\u001b[0mpop\u001b[0m\u001b[1;33m(\u001b[0m\u001b[1;36m0\u001b[0m\u001b[1;33m)\u001b[0m\u001b[1;33m,\u001b[0m\u001b[0mprice_sort\u001b[0m\u001b[1;33m.\u001b[0m\u001b[0mpop\u001b[0m\u001b[1;33m(\u001b[0m\u001b[1;36m1\u001b[0m\u001b[1;33m)\u001b[0m\u001b[1;33m,\u001b[0m\u001b[0mprice_sort\u001b[0m\u001b[1;33m.\u001b[0m\u001b[0mpop\u001b[0m\u001b[1;33m(\u001b[0m\u001b[1;33m-\u001b[0m\u001b[1;36m1\u001b[0m\u001b[1;33m)\u001b[0m\u001b[1;33m)\u001b[0m\u001b[1;33m\u001b[0m\u001b[1;33m\u001b[0m\u001b[0m\n\u001b[0m\u001b[0;32m     10\u001b[0m     \u001b[0mprint\u001b[0m\u001b[1;33m(\u001b[0m\u001b[0mprice_sort\u001b[0m\u001b[1;33m,\u001b[0m \u001b[0mmini_cost\u001b[0m\u001b[1;33m)\u001b[0m\u001b[1;33m\u001b[0m\u001b[1;33m\u001b[0m\u001b[0m\n\u001b[0;32m     11\u001b[0m \u001b[1;33m\u001b[0m\u001b[0m\n",
      "\u001b[1;31mIndexError\u001b[0m: pop index out of range"
     ]
    }
   ],
   "source": [
    "\n",
    "mini_cost = 0\n",
    "while len(price_sort) != 0 :\n",
    "    if len(price_sort) == 4 or len(price_sort) == 5:\n",
    "        mini_cost += price_sort.pop(-1)\n",
    "        print(price_sort[-1])\n",
    "        continue\n",
    "    mini_cost = mini_cost + price_sort[1] + price_sort[-1]\n",
    "    print(price_sort, len(price_sort))\n",
    "    print(price_sort.pop(0),price_sort.pop(1),price_sort.pop(-1))\n",
    "    print(price_sort, mini_cost)\n",
    "    \n",
    "print(mini_cost)"
   ]
  },
  {
   "cell_type": "code",
   "execution_count": 26,
   "id": "46a56905",
   "metadata": {},
   "outputs": [
    {
     "name": "stdout",
     "output_type": "stream",
     "text": [
      "[10, 9, 4, 2, 6, 4, 3]\n",
      "[]\n"
     ]
    }
   ],
   "source": [
    "print(price)\n",
    "print(price_sort)"
   ]
  },
  {
   "cell_type": "code",
   "execution_count": null,
   "id": "bf49c3c8",
   "metadata": {},
   "outputs": [],
   "source": []
  }
 ],
 "metadata": {
  "kernelspec": {
   "display_name": "Python 3",
   "language": "python",
   "name": "python3"
  },
  "language_info": {
   "codemirror_mode": {
    "name": "ipython",
    "version": 3
   },
   "file_extension": ".py",
   "mimetype": "text/x-python",
   "name": "python",
   "nbconvert_exporter": "python",
   "pygments_lexer": "ipython3",
   "version": "3.8.8"
  }
 },
 "nbformat": 4,
 "nbformat_minor": 5
}
