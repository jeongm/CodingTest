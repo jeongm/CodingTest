{
 "cells": [
  {
   "cell_type": "markdown",
   "id": "57ea7cfd",
   "metadata": {},
   "source": [
    "n번째 피보나치 수 구하기"
   ]
  },
  {
   "cell_type": "code",
   "execution_count": 11,
   "id": "caec1c97",
   "metadata": {},
   "outputs": [
    {
     "name": "stdout",
     "output_type": "stream",
     "text": [
      "0\n",
      "1\n",
      "1\n",
      "2\n",
      "3\n",
      "5\n",
      "8\n",
      "13\n",
      "21\n",
      "34\n",
      "55\n"
     ]
    }
   ],
   "source": [
    "# 방법1\n",
    "\n",
    "n = int(input())\n",
    "\n",
    "f_pre = 0\n",
    "f_post = 1\n",
    "\n",
    "for i in range(n+1):\n",
    "        tmp = f_pre\n",
    "        f_pre +=f_post\n",
    "        f_post = tmp\n",
    "        print(f_post)\n"
   ]
  },
  {
   "cell_type": "code",
   "execution_count": 12,
   "id": "51a7fee9",
   "metadata": {},
   "outputs": [],
   "source": [
    "# 방법2\n",
    "\n",
    "def Fibo(n):\n",
    "    if n == 0:\n",
    "        return 0\n",
    "    elif n == 1:\n",
    "        return 1\n",
    "    else :\n",
    "        return Fibo(n-1) + Fibo(n-2)"
   ]
  },
  {
   "cell_type": "code",
   "execution_count": 16,
   "id": "aef4e669",
   "metadata": {},
   "outputs": [
    {
     "name": "stdout",
     "output_type": "stream",
     "text": [
      "10\n",
      "55\n"
     ]
    }
   ],
   "source": [
    "n = int(input())\n",
    "\n",
    "print(Fibo(n))"
   ]
  },
  {
   "cell_type": "code",
   "execution_count": null,
   "id": "79f7b0cc",
   "metadata": {},
   "outputs": [],
   "source": []
  }
 ],
 "metadata": {
  "kernelspec": {
   "display_name": "Python 3",
   "language": "python",
   "name": "python3"
  },
  "language_info": {
   "codemirror_mode": {
    "name": "ipython",
    "version": 3
   },
   "file_extension": ".py",
   "mimetype": "text/x-python",
   "name": "python",
   "nbconvert_exporter": "python",
   "pygments_lexer": "ipython3",
   "version": "3.8.8"
  }
 },
 "nbformat": 4,
 "nbformat_minor": 5
}
