{
 "cells": [
  {
   "cell_type": "markdown",
   "id": "f2ae606e",
   "metadata": {},
   "source": [
    "### 20220310"
   ]
  },
  {
   "cell_type": "markdown",
   "id": "3c668fb8",
   "metadata": {},
   "source": [
    "준규가 가지고 있는 동전은 총 N종류이고, 각각의 동전을 매우 많이 가지고 있다.\n",
    "\n",
    "동전을 적절히 사용해서 그 가치의 합을 K로 만들려고 한다. 이때 필요한 동전 개수의 최솟값을 구하는 프로그램을 작성하시오."
   ]
  },
  {
   "cell_type": "code",
   "execution_count": 61,
   "id": "f49d1ad1",
   "metadata": {},
   "outputs": [
    {
     "name": "stdout",
     "output_type": "stream",
     "text": [
      "10 4200\n",
      "1\n",
      "5\n",
      "10\n",
      "50\n",
      "100\n",
      "500\n",
      "1000\n",
      "5000\n",
      "10000\n",
      "50000\n"
     ]
    }
   ],
   "source": [
    "N, K = map(int, input().split(' '))\n",
    "coin_value = [int(input()) for i in range(N) ]"
   ]
  },
  {
   "cell_type": "code",
   "execution_count": 59,
   "id": "d190a471",
   "metadata": {},
   "outputs": [],
   "source": [
    "coin_rev = list(reversed(coin_value))"
   ]
  },
  {
   "cell_type": "code",
   "execution_count": 60,
   "id": "2e575e2f",
   "metadata": {},
   "outputs": [
    {
     "name": "stdout",
     "output_type": "stream",
     "text": [
      "0 [0, 0, 0, 0, 0, 0, 0, 0, 0, 0] 4790\n",
      "0 [0, 0, 0, 0, 0, 0, 0, 0, 0, 0] 4790\n",
      "0 [0, 0, 0, 0, 0, 0, 0, 0, 0, 0] 4790\n",
      "4000 [0, 0, 0, 4, 0, 0, 0, 0, 0, 0] 4790\n",
      "4500 [0, 0, 0, 4, 1, 0, 0, 0, 0, 0] 4790\n",
      "4700 [0, 0, 0, 4, 1, 2, 0, 0, 0, 0] 4790\n",
      "4750 [0, 0, 0, 4, 1, 2, 1, 0, 0, 0] 4790\n",
      "4790 [0, 0, 0, 4, 1, 2, 1, 4, 0, 0] 4790\n",
      "12\n"
     ]
    }
   ],
   "source": [
    "#k 보다 작아야 됨\n",
    "coin_num = [0 for i in range(N)] # 최소 코인 개수\n",
    "coin_sum = 0\n",
    "\n",
    "i = 0\n",
    "while coin_sum != K:\n",
    "    if i == len(coin_rev) :\n",
    "        i = 2\n",
    "        coin_num = [0 for i in range(N)]\n",
    "        coin_sum = 0\n",
    "        continue\n",
    "    if coin_rev[i] <= (K-coin_sum):\n",
    "        coin_num[i]= (K-coin_sum)//coin_rev[i]\n",
    "        coin_sum += coin_rev[i]*coin_num[i]\n",
    "    print(coin_sum, coin_num, K)\n",
    "    i+=1\n",
    "    \n",
    "coin = 0\n",
    "for i in coin_num:\n",
    "    coin += i\n",
    "print(coin)\n"
   ]
  },
  {
   "cell_type": "code",
   "execution_count": null,
   "id": "199d5586",
   "metadata": {},
   "outputs": [],
   "source": []
  },
  {
   "cell_type": "code",
   "execution_count": null,
   "id": "b9141fb8",
   "metadata": {},
   "outputs": [],
   "source": [
    "N, K = map(int, input().split(' '))\n",
    "coin_value = [int(input()) for i in range(N) ]\n",
    "\n",
    "coin_rev = list(reversed(coin_value))\n",
    "\n",
    "coin_num = [0 for i in range(N)] # 최소 코인 개수\n",
    "coin_sum = 0\n",
    "\n",
    "i = 0\n",
    "while coin_sum != K:\n",
    "    if i == len(coin_rev) :\n",
    "        i = 2\n",
    "        coin_num = [0 for i in range(N)]\n",
    "        coin_sum = 0\n",
    "        continue\n",
    "    if coin_rev[i] <= (K-coin_sum):\n",
    "        coin_num[i]= (K-coin_sum)//coin_rev[i]\n",
    "        coin_sum += coin_rev[i]*coin_num[i]\n",
    "    i+=1\n",
    "    \n",
    "coin = 0\n",
    "for i in coin_num:\n",
    "    coin += i\n",
    "print(coin)"
   ]
  }
 ],
 "metadata": {
  "kernelspec": {
   "display_name": "Python 3",
   "language": "python",
   "name": "python3"
  },
  "language_info": {
   "codemirror_mode": {
    "name": "ipython",
    "version": 3
   },
   "file_extension": ".py",
   "mimetype": "text/x-python",
   "name": "python",
   "nbconvert_exporter": "python",
   "pygments_lexer": "ipython3",
   "version": "3.8.8"
  }
 },
 "nbformat": 4,
 "nbformat_minor": 5
}
