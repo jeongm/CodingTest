{
 "cells": [
  {
   "cell_type": "markdown",
   "id": "cf144027",
   "metadata": {},
   "source": [
    "https://www.acmicpc.net/problem/2839"
   ]
  },
  {
   "cell_type": "code",
   "execution_count": 36,
   "id": "9d927283",
   "metadata": {},
   "outputs": [
    {
     "name": "stdout",
     "output_type": "stream",
     "text": [
      "5000\n",
      "1000\n"
     ]
    }
   ],
   "source": [
    "N = int(input())\n",
    "suger = -1\n",
    "\n",
    "for i in range(N//5,-1,-1):\n",
    "    n = N\n",
    "    n -= 5*i\n",
    "    n -= n//3*3\n",
    "    if n == 0:\n",
    "        suger = i + (N-5*i)//3\n",
    "        break\n",
    "    \n",
    "print(suger)"
   ]
  },
  {
   "cell_type": "markdown",
   "id": "2e5a7daa",
   "metadata": {},
   "source": [
    "이전에 자바로 풀었던\n",
    "\n",
    "https://www.acmicpc.net/source/27563525"
   ]
  }
 ],
 "metadata": {
  "kernelspec": {
   "display_name": "Python 3",
   "language": "python",
   "name": "python3"
  },
  "language_info": {
   "codemirror_mode": {
    "name": "ipython",
    "version": 3
   },
   "file_extension": ".py",
   "mimetype": "text/x-python",
   "name": "python",
   "nbconvert_exporter": "python",
   "pygments_lexer": "ipython3",
   "version": "3.8.8"
  }
 },
 "nbformat": 4,
 "nbformat_minor": 5
}
