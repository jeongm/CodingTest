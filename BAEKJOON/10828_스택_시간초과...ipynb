{
 "cells": [
  {
   "cell_type": "markdown",
   "id": "15dccae5",
   "metadata": {},
   "source": [
    "## 0906"
   ]
  },
  {
   "cell_type": "markdown",
   "id": "f984e2b6",
   "metadata": {},
   "source": [
    "정수를 저장하는 스택을 구현한 다음, 입력으로 주어지는 명령을 처리하는 프로그램을 작성하시오.\n",
    "\n",
    "명령은 총 다섯 가지이다.\n",
    "\n",
    "push X: 정수 X를 스택에 넣는 연산이다.  \n",
    "pop: 스택에서 가장 위에 있는 정수를 빼고, 그 수를 출력한다. 만약 스택에 들어있는 정수가 없는 경우에는 -1을 출력한다.  \n",
    "size: 스택에 들어있는 정수의 개수를 출력한다.  \n",
    "empty: 스택이 비어있으면 1, 아니면 0을 출력한다.  \n",
    "top: 스택의 가장 위에 있는 정수를 출력한다. 만약 스택에 들어있는 정수가 없는 경우에는 -1을 출력한다.  "
   ]
  },
  {
   "cell_type": "code",
   "execution_count": 29,
   "id": "5741c87d",
   "metadata": {},
   "outputs": [],
   "source": [
    "def push(stack,X):\n",
    "    stack.append(X)\n",
    "    return stack"
   ]
  },
  {
   "cell_type": "code",
   "execution_count": 32,
   "id": "82f0e1f7",
   "metadata": {},
   "outputs": [],
   "source": [
    "def pop(stack):\n",
    "    if len(stack) == 0:\n",
    "            print(-1)\n",
    "    else :\n",
    "        print(stack[-1])\n",
    "        del stack[-1]\n",
    "    return stack"
   ]
  },
  {
   "cell_type": "code",
   "execution_count": 33,
   "id": "58a8322c",
   "metadata": {},
   "outputs": [],
   "source": [
    "def size(stack):\n",
    "    return len(stack)"
   ]
  },
  {
   "cell_type": "code",
   "execution_count": 38,
   "id": "59def109",
   "metadata": {},
   "outputs": [],
   "source": [
    "def empty(stack):\n",
    "    if size(stack) == 0:\n",
    "            return 1\n",
    "    else :\n",
    "        return 0"
   ]
  },
  {
   "cell_type": "code",
   "execution_count": 39,
   "id": "7d3bf8e1",
   "metadata": {},
   "outputs": [],
   "source": [
    "def top(stack):\n",
    "    if empty(stack) == 1:\n",
    "            return -1\n",
    "    else :\n",
    "        return stack[-1]"
   ]
  },
  {
   "cell_type": "code",
   "execution_count": 40,
   "id": "02e344ee",
   "metadata": {},
   "outputs": [
    {
     "name": "stdout",
     "output_type": "stream",
     "text": [
      "14\n",
      "push 1\n",
      "push 2\n",
      "top\n",
      "2\n",
      "size\n",
      "2\n",
      "empty\n",
      "0\n",
      "pop\n",
      "2\n",
      "pop\n",
      "1\n",
      "pop\n",
      "-1\n",
      "size\n",
      "0\n",
      "empty\n",
      "1\n",
      "pop\n",
      "-1\n",
      "push 3\n",
      "empty\n",
      "0\n",
      "top\n",
      "3\n"
     ]
    }
   ],
   "source": [
    "if __name__ == \"__main__\":\n",
    "    stack=[]\n",
    "    N = int(input())\n",
    "\n",
    "    for i in range(N):\n",
    "        x = input()\n",
    "        if x[0:4] == \"push\":\n",
    "            num = x[5:]\n",
    "            push(stack,num)\n",
    "        elif x == \"pop\":\n",
    "            pop(stack)\n",
    "        elif x == \"size\":\n",
    "            print(size(stack))\n",
    "        elif x == \"empty\":\n",
    "            print(empty(stack))\n",
    "        elif x == \"top\":\n",
    "            print(top(stack))\n"
   ]
  },
  {
   "cell_type": "code",
   "execution_count": 25,
   "id": "0e2461b2",
   "metadata": {
    "scrolled": true
   },
   "outputs": [
    {
     "name": "stdout",
     "output_type": "stream",
     "text": [
      "push 1\n",
      "push 2\n",
      "top\n",
      "2\n",
      "size\n",
      "2\n",
      "empty\n",
      "0\n",
      "pop\n",
      "2\n",
      "pop\n",
      "1\n",
      "pop\n",
      "-1\n",
      "size\n",
      "0\n",
      "empty\n",
      "1\n",
      "pop\n",
      "-1\n",
      "push 3\n",
      "empty\n",
      "0\n",
      "top\n",
      "3\n"
     ]
    }
   ],
   "source": [
    "stack=[]\n",
    "N = int(input())\n",
    "\n",
    "for i in range(N):\n",
    "    x = input()\n",
    "    if x[0:4] == \"push\":\n",
    "        num = x[5:]\n",
    "        stack.append(num)\n",
    "    elif x == \"pop\":\n",
    "        if len(stack) == 0:\n",
    "            print(-1)\n",
    "        else :\n",
    "            print(stack[-1])\n",
    "            del stack[-1]\n",
    "    elif x == \"size\":\n",
    "        print(len(stack))\n",
    "    elif x == \"empty\":\n",
    "        if len(stack) > 0:\n",
    "            print(0)\n",
    "        else :\n",
    "            print(1)\n",
    "    elif x == \"top\":\n",
    "        if len(stack) == 0:\n",
    "            print(-1)\n",
    "        else :\n",
    "            print(stack[-1])\n"
   ]
  },
  {
   "cell_type": "code",
   "execution_count": null,
   "id": "376aea1d",
   "metadata": {},
   "outputs": [],
   "source": []
  }
 ],
 "metadata": {
  "kernelspec": {
   "display_name": "Python 3",
   "language": "python",
   "name": "python3"
  },
  "language_info": {
   "codemirror_mode": {
    "name": "ipython",
    "version": 3
   },
   "file_extension": ".py",
   "mimetype": "text/x-python",
   "name": "python",
   "nbconvert_exporter": "python",
   "pygments_lexer": "ipython3",
   "version": "3.8.8"
  }
 },
 "nbformat": 4,
 "nbformat_minor": 5
}
