{
 "cells": [
  {
   "cell_type": "code",
   "execution_count": null,
   "id": "87078b19",
   "metadata": {},
   "outputs": [],
   "source": [
    "class Solution:\n",
    "    def isPalindrome(self, s: str) -> bool:\n",
    "        s = s.lower()\n",
    "        s = re.sub('[^a-z0-9]','',s)\n",
    "        \n",
    "        rev_str = s[::-1]\n",
    "        \n",
    "        if rev_str == s:\n",
    "            return True\n",
    "        else :\n",
    "            return False"
   ]
  },
  {
   "cell_type": "code",
   "execution_count": null,
   "id": "c395dfff",
   "metadata": {},
   "outputs": [],
   "source": []
  },
  {
   "cell_type": "code",
   "execution_count": null,
   "id": "7f0a3e47",
   "metadata": {},
   "outputs": [],
   "source": []
  },
  {
   "cell_type": "code",
   "execution_count": 85,
   "id": "8d6b0e98",
   "metadata": {},
   "outputs": [],
   "source": [
    "import re"
   ]
  },
  {
   "cell_type": "code",
   "execution_count": 98,
   "id": "42ae2d8a",
   "metadata": {},
   "outputs": [],
   "source": [
    "def isPalindrome(s: str) -> bool:\n",
    "    # 숫자, 알파벳 아닌 친구들 제거\n",
    "    s = s.lower()\n",
    "    s = re.sub('[^a-z0-9]','',s)\n",
    "    print(s)\n",
    "    # 역순변수선언 \n",
    "    rev_str = s[::-1]\n",
    "    # 비교\n",
    "    print(rev_str)\n",
    "    if rev_str == s:\n",
    "        return True\n",
    "    else :\n",
    "        return False\n",
    "    "
   ]
  },
  {
   "cell_type": "code",
   "execution_count": 99,
   "id": "019666db",
   "metadata": {},
   "outputs": [
    {
     "name": "stdout",
     "output_type": "stream",
     "text": [
      "amanaplanacanalpanama\n",
      "amanaplanacanalpanama\n"
     ]
    },
    {
     "data": {
      "text/plain": [
       "True"
      ]
     },
     "execution_count": 99,
     "metadata": {},
     "output_type": "execute_result"
    }
   ],
   "source": [
    "#if __name__ == \"__main__\":\n",
    "s1 = \"A man, a plan, a canal: Panama\"\n",
    "s2 = \"race a car\"\n",
    "s3 = \" \"\n",
    "\n",
    "\n",
    "isPalindrome(s1)\n"
   ]
  },
  {
   "cell_type": "code",
   "execution_count": 77,
   "id": "b2c512e2",
   "metadata": {},
   "outputs": [],
   "source": [
    "s2 = \"Race a car\""
   ]
  },
  {
   "cell_type": "code",
   "execution_count": 71,
   "id": "3775900d",
   "metadata": {},
   "outputs": [
    {
     "data": {
      "text/plain": [
       "False"
      ]
     },
     "execution_count": 71,
     "metadata": {},
     "output_type": "execute_result"
    }
   ],
   "source": [
    "c = \"3\"\n",
    "\"9\" < c\n"
   ]
  },
  {
   "cell_type": "code",
   "execution_count": 102,
   "id": "6aefbdca",
   "metadata": {},
   "outputs": [
    {
     "name": "stdout",
     "output_type": "stream",
     "text": [
      "1\n"
     ]
    }
   ],
   "source": [
    "str = \"abc12def345g6\"\n",
    "str_search = re.search('[0-9]',str)\n",
    "print(str_search.group())"
   ]
  },
  {
   "cell_type": "code",
   "execution_count": 110,
   "id": "2b280ad7",
   "metadata": {},
   "outputs": [
    {
     "name": "stdout",
     "output_type": "stream",
     "text": [
      "123456\n"
     ]
    }
   ],
   "source": [
    "str = \"abc12def345g6\"\n",
    "str_sub = re.sub('[^0-9]','',str)\n",
    "print(str_sub)"
   ]
  },
  {
   "cell_type": "code",
   "execution_count": null,
   "id": "fc203c51",
   "metadata": {},
   "outputs": [],
   "source": []
  }
 ],
 "metadata": {
  "kernelspec": {
   "display_name": "Python 3",
   "language": "python",
   "name": "python3"
  },
  "language_info": {
   "codemirror_mode": {
    "name": "ipython",
    "version": 3
   },
   "file_extension": ".py",
   "mimetype": "text/x-python",
   "name": "python",
   "nbconvert_exporter": "python",
   "pygments_lexer": "ipython3",
   "version": "3.8.8"
  }
 },
 "nbformat": 4,
 "nbformat_minor": 5
}
