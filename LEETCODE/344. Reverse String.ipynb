{
 "cells": [
  {
   "cell_type": "code",
   "execution_count": 41,
   "id": "c407d5a3",
   "metadata": {},
   "outputs": [],
   "source": [
    "s1 = [\"h\",\"e\",\"l\",\"l\",\"o\"]\n",
    "s2 = [\"h\",\"a\",\"n\",\"n\",\"a\",\"h\"]"
   ]
  },
  {
   "cell_type": "code",
   "execution_count": 36,
   "id": "a4d23337",
   "metadata": {},
   "outputs": [],
   "source": [
    "def reverseString(s) -> None:\n",
    "    for i in range(len(s)//2):\n",
    "        swap = s[i]\n",
    "        s[i] = s[len(s)-i-1]\n",
    "        s[len(s)-i-1] = swap\n",
    "    print(s)"
   ]
  },
  {
   "cell_type": "code",
   "execution_count": 42,
   "id": "e3d2a7a2",
   "metadata": {},
   "outputs": [
    {
     "name": "stdout",
     "output_type": "stream",
     "text": [
      "['o', 'l', 'l', 'e', 'h']\n"
     ]
    }
   ],
   "source": [
    "reverseString3(s1)"
   ]
  },
  {
   "cell_type": "code",
   "execution_count": null,
   "id": "5945c5a1",
   "metadata": {},
   "outputs": [],
   "source": [
    "def reverseString(s) -> None:\n",
    "    s[:] = s[::-1]\n",
    "    print(s)"
   ]
  },
  {
   "cell_type": "code",
   "execution_count": 40,
   "id": "395661cc",
   "metadata": {},
   "outputs": [],
   "source": [
    "def reverseString3(s) -> None:\n",
    "    s.reverse()\n",
    "    print(s)"
   ]
  },
  {
   "cell_type": "code",
   "execution_count": null,
   "id": "d13498e0",
   "metadata": {},
   "outputs": [],
   "source": []
  }
 ],
 "metadata": {
  "kernelspec": {
   "display_name": "Python 3",
   "language": "python",
   "name": "python3"
  },
  "language_info": {
   "codemirror_mode": {
    "name": "ipython",
    "version": 3
   },
   "file_extension": ".py",
   "mimetype": "text/x-python",
   "name": "python",
   "nbconvert_exporter": "python",
   "pygments_lexer": "ipython3",
   "version": "3.8.8"
  }
 },
 "nbformat": 4,
 "nbformat_minor": 5
}
