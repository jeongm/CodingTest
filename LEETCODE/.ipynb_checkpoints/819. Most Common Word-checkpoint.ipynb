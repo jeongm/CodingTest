{
 "cells": [
  {
   "cell_type": "code",
   "execution_count": 80,
   "id": "8e0f6a5b",
   "metadata": {},
   "outputs": [],
   "source": [
    "from typing import List"
   ]
  },
  {
   "cell_type": "code",
   "execution_count": 81,
   "id": "5a34ebbd",
   "metadata": {},
   "outputs": [],
   "source": [
    "class Solution:\n",
    "    def mostCommonWord(self, paragraph: str, banned: List[str]) -> str:\n",
    "        paragraph = paragraph.lower()\n",
    "        paragraph = re.sub('[\\W]',' ',paragraph)\n",
    "        p_list=[]\n",
    "        for word in paragraph.split(): \n",
    "            if word not in banned:\n",
    "                p_list.append(word)\n",
    "\n",
    "        p_count = Counter(p_list)\n",
    "        most = p_count.most_common()[0][0]\n",
    "        return most"
   ]
  },
  {
   "cell_type": "code",
   "execution_count": 82,
   "id": "5ae96bbf",
   "metadata": {},
   "outputs": [
    {
     "name": "stdout",
     "output_type": "stream",
     "text": [
      "['bob', 'a', 'ball', 'the', 'ball', 'flew', 'far', 'after', 'it', 'was']\n",
      "Counter({'ball': 2, 'bob': 1, 'a': 1, 'the': 1, 'flew': 1, 'far': 1, 'after': 1, 'it': 1, 'was': 1})\n",
      "ball\n"
     ]
    }
   ],
   "source": [
    "from collections import Counter\n",
    "import re\n",
    "\n",
    "paragraph = \"Bob hit a ball, the hit BALL flew far after it was hit.\"\n",
    "banned = [\"hit\"]\n",
    "\n",
    "paragraph = paragraph.lower()\n",
    "paragraph = re.sub('[\\W]',' ',paragraph)\n",
    "p_list = []\n",
    "for word in paragraph.split(): \n",
    "    if word not in banned:\n",
    "        p_list.append(word)\n",
    "                                                                                                                                                                                                                                                                                                                                                                                                                            \n",
    "print(p_list)\n",
    "# 대응하는 배열 만들어서 값 증가\n",
    "p_count = Counter(p_list)\n",
    "p_count.most_common(1)\n",
    "print(p_count)\n",
    "most = p_count.most_common()[0][0]\n",
    "print(most)"
   ]
  },
  {
   "cell_type": "code",
   "execution_count": 57,
   "id": "17fa3096",
   "metadata": {},
   "outputs": [
    {
     "name": "stdout",
     "output_type": "stream",
     "text": [
      "['bob', 'a', 'ball', 'the', 'ball', 'flew', 'far', 'after', 'it', 'was']\n",
      "Counter({'ball': 2, 'bob': 1, 'a': 1, 'the': 1, 'flew': 1, 'far': 1, 'after': 1, 'it': 1, 'was': 1})\n",
      "ball\n"
     ]
    }
   ],
   "source": [
    "from collections import Counter\n",
    "\n",
    "paragraph = \"Bob hit a ball, the hit BALL flew far after it was hit.\"\n",
    "banned = ['hit']\n",
    "\n",
    "#1. all word change lower alpabet\n",
    "paragraph = paragraph.lower()\n",
    "#2. if alpabet: add word, else: append p_list \n",
    "#if not alpabet: put word in p_list\n",
    "p_list=[]\n",
    "word=\"\"\n",
    "for c in paragraph:\n",
    "    # not alpabet append list\n",
    "    if c.isalpha():\n",
    "        word+=c\n",
    "    elif word in banned:\n",
    "        word =\"\"\n",
    "    elif word  != \"\":\n",
    "        p_list.append(word)\n",
    "        word =\"\"\n",
    "if word != \"\": \n",
    "    p_list.append(word)\n",
    "print(p_list)\n",
    "#4. count frequency\n",
    "p_count = Counter(p_list)\n",
    "print(p_count)\n",
    "most = p_count.most_common()[0][0]\n",
    "print(most)\n"
   ]
  }
 ],
 "metadata": {
  "kernelspec": {
   "display_name": "Python 3",
   "language": "python",
   "name": "python3"
  },
  "language_info": {
   "codemirror_mode": {
    "name": "ipython",
    "version": 3
   },
   "file_extension": ".py",
   "mimetype": "text/x-python",
   "name": "python",
   "nbconvert_exporter": "python",
   "pygments_lexer": "ipython3",
   "version": "3.8.8"
  }
 },
 "nbformat": 4,
 "nbformat_minor": 5
}
