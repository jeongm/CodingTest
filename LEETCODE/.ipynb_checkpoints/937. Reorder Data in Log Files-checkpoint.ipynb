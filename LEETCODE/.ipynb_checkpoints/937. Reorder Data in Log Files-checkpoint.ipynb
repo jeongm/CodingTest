{
 "cells": [
  {
   "cell_type": "code",
   "execution_count": 50,
   "id": "20dd9ca2",
   "metadata": {},
   "outputs": [],
   "source": [
    "logs1 = [\"dig1 8 1 5 1\",\"let1 art can\",\"dig2 3 6\",\"let2 own kit dig\",\"let3 art zero\"]\n",
    "logs2 = [\"a1 9 2 3 1\",\"g1 act car\",\"zo4 4 7\",\"ab1 off key dog\",\"a8 act zoo\"]\n",
    "logs = [\"1 n u\", \"r 527\", \"j 893\", \"6 14\", \"6 82\"]"
   ]
  },
  {
   "cell_type": "code",
   "execution_count": null,
   "id": "502ea281",
   "metadata": {},
   "outputs": [],
   "source": [
    "class Solution:\n",
    "    def reorderLogFiles(self, logs: List[str]) -> List[str]:\n",
    "        dig,letter=[],[]\n",
    "        for log in logs:\n",
    "            if log.split()[1].isdigit():\n",
    "                dig.append(log)\n",
    "            else:\n",
    "                letter.append(log)\n",
    "        letter.sort(key=lambda x:(x.split()[1:],x.split()[0]))\n",
    "        return letter+dig "
   ]
  },
  {
   "cell_type": "code",
   "execution_count": 74,
   "id": "c27c96d8",
   "metadata": {},
   "outputs": [
    {
     "name": "stdout",
     "output_type": "stream",
     "text": [
      "['1 n u']\n",
      "['r 527', 'j 893', '6 14', '6 82']\n",
      "['1 n u', 'r 527', 'j 893', '6 14', '6 82']\n"
     ]
    }
   ],
   "source": [
    "dig,letter=[],[]\n",
    "for log in logs:\n",
    "    if log.split()[1].isdigit():\n",
    "        dig.append(log)\n",
    "    else:\n",
    "        letter.append(log)\n",
    "letter.sort(key=lambda x:(x.split()[1:],x.split()[0])) # x.split()[1:]정렬 후 [0]정렬\n",
    "print(letter)\n",
    "print(dig)\n",
    "letter+=dig \n",
    "print(letter)"
   ]
  },
  {
   "cell_type": "code",
   "execution_count": null,
   "id": "6b040ec0",
   "metadata": {},
   "outputs": [],
   "source": []
  }
 ],
 "metadata": {
  "kernelspec": {
   "display_name": "Python 3",
   "language": "python",
   "name": "python3"
  },
  "language_info": {
   "codemirror_mode": {
    "name": "ipython",
    "version": 3
   },
   "file_extension": ".py",
   "mimetype": "text/x-python",
   "name": "python",
   "nbconvert_exporter": "python",
   "pygments_lexer": "ipython3",
   "version": "3.8.8"
  }
 },
 "nbformat": 4,
 "nbformat_minor": 5
}
